{
 "cells": [
  {
   "cell_type": "code",
   "execution_count": null,
   "metadata": {},
   "outputs": [],
   "source": [
    "import pandas as pd # 데이터 추출, 재가공, 정렬을 위한 모듈\n",
    "\n",
    "df = pd.read_excel(\"./car_info/2020/2020_01.xlsx\", sheet_name=\"10.연료별_등록현황\") # 엑셀 파일 불러오기\n",
    "\n",
    "test_df = df.iloc[[1,19,36,53,87],range(3,20)]  # [1, 19, 36, 53, 87]행, 3~20열 추출\n",
    "test_df.columns = [i for i in range(17)] # 추출한 행렬의 column 번호 재정렬\n",
    "tran_df = test_df.T                      # 전치행렬로 전환하여 행,렬 전환\n",
    "tran_df.columns = [\"지역\", \"휘발유\", \"경유\", \"LPG\", \"전기\"]    # 전환한 행렬의 column 명 지정\n",
    "# tran_df\n",
    "\n",
    "tran_df.to_csv(\"2020_01.csv\", index=False)                   # 작업한 행렬 csv 파일로 추출"
   ]
  }
 ],
 "metadata": {
  "kernelspec": {
   "display_name": ".venv",
   "language": "python",
   "name": "python3"
  },
  "language_info": {
   "name": "python",
   "version": "3.12.4"
  }
 },
 "nbformat": 4,
 "nbformat_minor": 2
}
