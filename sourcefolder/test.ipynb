{
 "cells": [
  {
   "cell_type": "code",
   "execution_count": 1,
   "metadata": {},
   "outputs": [
    {
     "name": "stdout",
     "output_type": "stream",
     "text": [
      "./csv_source/total_review/관용 승용차 현황.csv\n",
      "./csv_source/total_review/개인 승용차 현황.csv\n",
      "./csv_source/total_review/영업 승용차 현황.csv\n",
      "./csv_source/total_review/합계 승용차 현황.csv\n",
      "./csv_source/total_review/관용 승합차 현황.csv\n",
      "./csv_source/total_review/개인 승합차 현황.csv\n",
      "./csv_source/total_review/영업 승합차 현황.csv\n",
      "./csv_source/total_review/합계 승합차 현황.csv\n",
      "./csv_source/total_review/관용 특수차 현황.csv\n",
      "./csv_source/total_review/개인 특수차 현황.csv\n",
      "./csv_source/total_review/영업 특수차 현황.csv\n",
      "./csv_source/total_review/합계 특수차 현황.csv\n",
      "./csv_source/total_review/관용 화물차 현황.csv\n",
      "./csv_source/total_review/개인 화물차 현황.csv\n",
      "./csv_source/total_review/영업 화물차 현황.csv\n",
      "./csv_source/total_review/합계 화물차 현황.csv\n"
     ]
    }
   ],
   "source": [
    "import pandas as pd # 데이터 추출, 재가공, 정렬을 위한 모듈\n",
    "\n",
    "\n",
    "# labeling 앞자리\n",
    "# 0 = 승용차\n",
    "# 1 = 승합차\n",
    "# 2 = 특수차\n",
    "# 3 = 화물차\n",
    "labeling_i = {\n",
    "    '0':'승용차',\n",
    "    '1':'승합차',\n",
    "    '2':'특수차',\n",
    "    '3':'화물차'\n",
    "}\n",
    "# labeling 뒷자리\n",
    "# 0 = 관용\n",
    "# 1 = 개인\n",
    "# 2 = 영업\n",
    "# 3 = 합계\n",
    "labeling_j = {\n",
    "    '0':'관용',\n",
    "    '1':'개인',\n",
    "    '2':'영업',\n",
    "    '3':'합계'\n",
    "}\n",
    "for i in range(4): # 앞자리\n",
    "    for j in range(4): #뒷자리\n",
    "        # df = pd.read_excel(\"./car_info/전국 자동차 등록 현황/{i}/{i}{j}.xlsx\".format(i=i,j=j))         # 엑셀 파일 불러오기\n",
    "        # test_df = df.iloc[range(0,54),range(0,19)]                                     # 0~53행, 1~18열 추출\n",
    "        # test_df.rename(columns={'Unnamed: 0':'date'}, inplace=True)                    # 행 0의 column명 지정\n",
    "        # test_df.to_csv(\"./csv_source/total_review/{j} {i} 현황.csv\".format(i = labeling_i[str(i)], j = labeling_j[str(j)]), index=False)    # 작업한 행렬 csv 파일로 추출\n",
    "        print(\"./csv_source/total_review/{j} {i} 현황.csv\".format(i = labeling_i[str(i)], j = labeling_j[str(j)]))"
   ]
  },
  {
   "cell_type": "code",
   "execution_count": null,
   "metadata": {},
   "outputs": [],
   "source": []
  }
 ],
 "metadata": {
  "kernelspec": {
   "display_name": ".venv",
   "language": "python",
   "name": "python3"
  },
  "language_info": {
   "codemirror_mode": {
    "name": "ipython",
    "version": 3
   },
   "file_extension": ".py",
   "mimetype": "text/x-python",
   "name": "python",
   "nbconvert_exporter": "python",
   "pygments_lexer": "ipython3",
   "version": "3.12.4"
  }
 },
 "nbformat": 4,
 "nbformat_minor": 2
}
