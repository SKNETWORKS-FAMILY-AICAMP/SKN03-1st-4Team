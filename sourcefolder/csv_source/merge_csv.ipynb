{
 "cells": [
  {
   "cell_type": "code",
   "execution_count": 8,
   "metadata": {},
   "outputs": [],
   "source": [
    "import pandas as pd\n",
    "# 폴더 , 파일을 관리하는 os 라이브러리 \n",
    "import os"
   ]
  },
  {
   "cell_type": "code",
   "execution_count": 3,
   "metadata": {},
   "outputs": [
    {
     "data": {
      "text/plain": [
       "['2020', '2021', '2022', '2023', '2024', 'merge_csv.ipynb']"
      ]
     },
     "execution_count": 3,
     "metadata": {},
     "output_type": "execute_result"
    }
   ],
   "source": [
    "os.listdir()"
   ]
  },
  {
   "cell_type": "code",
   "execution_count": 38,
   "metadata": {},
   "outputs": [
    {
     "data": {
      "text/plain": [
       "['2020',\n",
       " '2020.csv',\n",
       " '2021',\n",
       " '2021.csv',\n",
       " '2022',\n",
       " '2022.csv',\n",
       " '2023',\n",
       " '2023.csv',\n",
       " '2024',\n",
       " '2024.csv',\n",
       " 'merge_csv.ipynb']"
      ]
     },
     "execution_count": 38,
     "metadata": {},
     "output_type": "execute_result"
    }
   ],
   "source": [
    "dirpath = './'\n",
    "files = os.listdir(dirpath)\n",
    "files"
   ]
  },
  {
   "cell_type": "code",
   "execution_count": 39,
   "metadata": {},
   "outputs": [
    {
     "ename": "TypeError",
     "evalue": "listdir: path should be string, bytes, os.PathLike or None, not list",
     "output_type": "error",
     "traceback": [
      "\u001b[1;31m---------------------------------------------------------------------------\u001b[0m",
      "\u001b[1;31mTypeError\u001b[0m                                 Traceback (most recent call last)",
      "Cell \u001b[1;32mIn[39], line 8\u001b[0m\n\u001b[0;32m      5\u001b[0m dataframes \u001b[38;5;241m=\u001b[39m []\n\u001b[0;32m      7\u001b[0m \u001b[38;5;66;03m# 폴더 내의 파일들을 하나씩 읽어들이고 리스트에 추가\u001b[39;00m\n\u001b[1;32m----> 8\u001b[0m \u001b[38;5;28;01mfor\u001b[39;00m file_names \u001b[38;5;129;01min\u001b[39;00m \u001b[43mos\u001b[49m\u001b[38;5;241;43m.\u001b[39;49m\u001b[43mlistdir\u001b[49m\u001b[43m(\u001b[49m\u001b[43mfiles\u001b[49m\u001b[43m)\u001b[49m:\n\u001b[0;32m      9\u001b[0m     fpath \u001b[38;5;241m=\u001b[39m os\u001b[38;5;241m.\u001b[39mpath\u001b[38;5;241m.\u001b[39mjoin(\u001b[38;5;124m'\u001b[39m\u001b[38;5;124m./2024\u001b[39m\u001b[38;5;124m'\u001b[39m, file_names)\n\u001b[0;32m     10\u001b[0m     \u001b[38;5;28mprint\u001b[39m(fpath)\n",
      "\u001b[1;31mTypeError\u001b[0m: listdir: path should be string, bytes, os.PathLike or None, not list"
     ]
    }
   ],
   "source": [
    "import pandas as pd\n",
    "import os\n",
    "\n",
    "# 빈 리스트 준비\n",
    "dataframes = []\n",
    "\n",
    "# 폴더 내의 파일들을 하나씩 읽어들이고 리스트에 추가\n",
    "for file_names in os.listdir('./2024'):\n",
    "    fpath = os.path.join('./2024', file_names)\n",
    "    print(fpath)\n",
    "    temp = pd.read_csv(fpath)\n",
    "    dataframes.append(temp)\n",
    "\n",
    "# 모든 데이터프레임을 하나로 병합\n",
    "raw = pd.concat(dataframes, ignore_index=True)\n",
    "\n"
   ]
  },
  {
   "cell_type": "code",
   "execution_count": 32,
   "metadata": {},
   "outputs": [
    {
     "data": {
      "text/html": [
       "<div>\n",
       "<style scoped>\n",
       "    .dataframe tbody tr th:only-of-type {\n",
       "        vertical-align: middle;\n",
       "    }\n",
       "\n",
       "    .dataframe tbody tr th {\n",
       "        vertical-align: top;\n",
       "    }\n",
       "\n",
       "    .dataframe thead th {\n",
       "        text-align: right;\n",
       "    }\n",
       "</style>\n",
       "<table border=\"1\" class=\"dataframe\">\n",
       "  <thead>\n",
       "    <tr style=\"text-align: right;\">\n",
       "      <th></th>\n",
       "      <th>지역</th>\n",
       "      <th>휘발유</th>\n",
       "      <th>경유</th>\n",
       "      <th>LPG</th>\n",
       "      <th>전기</th>\n",
       "      <th>년월</th>\n",
       "    </tr>\n",
       "  </thead>\n",
       "  <tbody>\n",
       "    <tr>\n",
       "      <th>0</th>\n",
       "      <td>서울</td>\n",
       "      <td>1658291</td>\n",
       "      <td>1004636</td>\n",
       "      <td>222146</td>\n",
       "      <td>72877</td>\n",
       "      <td>2024.01</td>\n",
       "    </tr>\n",
       "    <tr>\n",
       "      <th>1</th>\n",
       "      <td>부산</td>\n",
       "      <td>744262</td>\n",
       "      <td>516019</td>\n",
       "      <td>101582</td>\n",
       "      <td>34789</td>\n",
       "      <td>2024.01</td>\n",
       "    </tr>\n",
       "    <tr>\n",
       "      <th>2</th>\n",
       "      <td>대구</td>\n",
       "      <td>602293</td>\n",
       "      <td>439473</td>\n",
       "      <td>101545</td>\n",
       "      <td>30396</td>\n",
       "      <td>2024.01</td>\n",
       "    </tr>\n",
       "    <tr>\n",
       "      <th>3</th>\n",
       "      <td>인천</td>\n",
       "      <td>843141</td>\n",
       "      <td>577568</td>\n",
       "      <td>99319</td>\n",
       "      <td>40845</td>\n",
       "      <td>2024.01</td>\n",
       "    </tr>\n",
       "    <tr>\n",
       "      <th>4</th>\n",
       "      <td>광주</td>\n",
       "      <td>320422</td>\n",
       "      <td>256415</td>\n",
       "      <td>87362</td>\n",
       "      <td>12529</td>\n",
       "      <td>2024.01</td>\n",
       "    </tr>\n",
       "    <tr>\n",
       "      <th>...</th>\n",
       "      <td>...</td>\n",
       "      <td>...</td>\n",
       "      <td>...</td>\n",
       "      <td>...</td>\n",
       "      <td>...</td>\n",
       "      <td>...</td>\n",
       "    </tr>\n",
       "    <tr>\n",
       "      <th>97</th>\n",
       "      <td>전북</td>\n",
       "      <td>412464</td>\n",
       "      <td>414008</td>\n",
       "      <td>92838</td>\n",
       "      <td>21918</td>\n",
       "      <td>2024.06</td>\n",
       "    </tr>\n",
       "    <tr>\n",
       "      <th>98</th>\n",
       "      <td>전남</td>\n",
       "      <td>506245</td>\n",
       "      <td>530116</td>\n",
       "      <td>104462</td>\n",
       "      <td>27622</td>\n",
       "      <td>2024.06</td>\n",
       "    </tr>\n",
       "    <tr>\n",
       "      <th>99</th>\n",
       "      <td>경북</td>\n",
       "      <td>675473</td>\n",
       "      <td>632470</td>\n",
       "      <td>126201</td>\n",
       "      <td>29838</td>\n",
       "      <td>2024.06</td>\n",
       "    </tr>\n",
       "    <tr>\n",
       "      <th>100</th>\n",
       "      <td>경남</td>\n",
       "      <td>940505</td>\n",
       "      <td>704528</td>\n",
       "      <td>136804</td>\n",
       "      <td>41818</td>\n",
       "      <td>2024.06</td>\n",
       "    </tr>\n",
       "    <tr>\n",
       "      <th>101</th>\n",
       "      <td>제주</td>\n",
       "      <td>329498</td>\n",
       "      <td>222507</td>\n",
       "      <td>45864</td>\n",
       "      <td>42436</td>\n",
       "      <td>2024.06</td>\n",
       "    </tr>\n",
       "  </tbody>\n",
       "</table>\n",
       "<p>102 rows × 6 columns</p>\n",
       "</div>"
      ],
      "text/plain": [
       "     지역      휘발유       경유     LPG     전기       년월\n",
       "0    서울  1658291  1004636  222146  72877  2024.01\n",
       "1    부산   744262   516019  101582  34789  2024.01\n",
       "2    대구   602293   439473  101545  30396  2024.01\n",
       "3    인천   843141   577568   99319  40845  2024.01\n",
       "4    광주   320422   256415   87362  12529  2024.01\n",
       "..   ..      ...      ...     ...    ...      ...\n",
       "97   전북   412464   414008   92838  21918  2024.06\n",
       "98   전남   506245   530116  104462  27622  2024.06\n",
       "99   경북   675473   632470  126201  29838  2024.06\n",
       "100  경남   940505   704528  136804  41818  2024.06\n",
       "101  제주   329498   222507   45864  42436  2024.06\n",
       "\n",
       "[102 rows x 6 columns]"
      ]
     },
     "execution_count": 32,
     "metadata": {},
     "output_type": "execute_result"
    }
   ],
   "source": [
    "raw"
   ]
  },
  {
   "cell_type": "code",
   "execution_count": 33,
   "metadata": {},
   "outputs": [],
   "source": [
    "raw.to_csv(\"2024.csv\", index = False)"
   ]
  },
  {
   "cell_type": "code",
   "execution_count": null,
   "metadata": {},
   "outputs": [],
   "source": []
  }
 ],
 "metadata": {
  "kernelspec": {
   "display_name": ".venv",
   "language": "python",
   "name": "python3"
  },
  "language_info": {
   "codemirror_mode": {
    "name": "ipython",
    "version": 3
   },
   "file_extension": ".py",
   "mimetype": "text/x-python",
   "name": "python",
   "nbconvert_exporter": "python",
   "pygments_lexer": "ipython3",
   "version": "3.12.4"
  }
 },
 "nbformat": 4,
 "nbformat_minor": 2
}
