{
 "cells": [
  {
   "cell_type": "code",
   "execution_count": 2,
   "metadata": {},
   "outputs": [],
   "source": [
    "from selenium import webdriver\n",
    "from selenium.webdriver.common.by import By"
   ]
  },
  {
   "cell_type": "code",
   "execution_count": 7,
   "metadata": {},
   "outputs": [],
   "source": [
    "driver = webdriver.Chrome()\n",
    "url = \"https://www.naver.com/\"\n",
    "driver.get(url)\n",
    "driver.implicitly_wait(3)\n"
   ]
  },
  {
   "cell_type": "code",
   "execution_count": 8,
   "metadata": {},
   "outputs": [
    {
     "data": {
      "text/plain": [
       "<selenium.webdriver.remote.webelement.WebElement (session=\"9212030b73aaaf31d2cd506cec418442\", element=\"f.339538FBFD7D330EA787521D8B53D90E.d.67574F500E65A51EF2A445A001D3F38F.e.5\")>"
      ]
     },
     "execution_count": 8,
     "metadata": {},
     "output_type": "execute_result"
    }
   ],
   "source": [
    "driver.find_element(By.CSS_SELECTOR, \"#query\")"
   ]
  },
  {
   "cell_type": "code",
   "execution_count": 9,
   "metadata": {},
   "outputs": [
    {
     "data": {
      "text/plain": [
       "'rgba(0, 128, 0, 1)'"
      ]
     },
     "execution_count": 9,
     "metadata": {},
     "output_type": "execute_result"
    }
   ],
   "source": [
    "# Navigate to Url\n",
    "driver = webdriver.Chrome()\n",
    "driver.get('https://www.selenium.dev/selenium/web/colorPage.html')\n",
    "driver.implicitly_wait(3)\n",
    "\n",
    "# Retrieves the computed style property 'color' of linktext\n",
    "# 요소를 찾고(find - ID), 해당 내용에서 정보를 추출함 (background-color)\n",
    "cssValue = driver.find_element(By.ID, \"namedColor\")\\\n",
    "    .value_of_css_property('background-color')\n",
    "cssValue"
   ]
  },
  {
   "cell_type": "code",
   "execution_count": 10,
   "metadata": {},
   "outputs": [
    {
     "data": {
      "text/plain": [
       "'Just another link.'"
      ]
     },
     "execution_count": 10,
     "metadata": {},
     "output_type": "execute_result"
    }
   ],
   "source": [
    "# Navigate to url\n",
    "driver = webdriver.Chrome()\n",
    "driver.get(\"https://www.selenium.dev/selenium/web/linked_image.html\")\n",
    "driver.implicitly_wait(3)\n",
    "\n",
    "# Retrieves the text of the element\n",
    "text = driver.find_element(By.ID, \"justanotherLink\").text\n",
    "text"
   ]
  },
  {
   "cell_type": "code",
   "execution_count": 11,
   "metadata": {},
   "outputs": [
    {
     "name": "stdout",
     "output_type": "stream",
     "text": [
      "Collecting pyperclip\n",
      "  Downloading pyperclip-1.9.0.tar.gz (20 kB)\n",
      "  Installing build dependencies: started\n",
      "  Installing build dependencies: finished with status 'done'\n",
      "  Getting requirements to build wheel: started\n",
      "  Getting requirements to build wheel: finished with status 'done'\n",
      "  Preparing metadata (pyproject.toml): started\n",
      "  Preparing metadata (pyproject.toml): finished with status 'done'\n",
      "Building wheels for collected packages: pyperclip\n",
      "  Building wheel for pyperclip (pyproject.toml): started\n",
      "  Building wheel for pyperclip (pyproject.toml): finished with status 'done'\n",
      "  Created wheel for pyperclip: filename=pyperclip-1.9.0-py3-none-any.whl size=11019 sha256=3956f9ddaa8339c83bede9a6be9d2b55e0d0aed18cc25097bffaa4edb68a50a6\n",
      "  Stored in directory: c:\\users\\user\\appdata\\local\\pip\\cache\\wheels\\e0\\e8\\fc\\8ab8aa326e33bc066ccd5f3ca9646eab4299881af933f94f09\n",
      "Successfully built pyperclip\n",
      "Installing collected packages: pyperclip\n",
      "Successfully installed pyperclip-1.9.0\n"
     ]
    }
   ],
   "source": [
    "!pip install pyperclip"
   ]
  },
  {
   "cell_type": "code",
   "execution_count": 2,
   "metadata": {},
   "outputs": [],
   "source": [
    "import time\n",
    "from selenium import webdriver\n",
    "from selenium.webdriver.common.by import By\n",
    "from selenium.webdriver import Keys, ActionChains\n",
    "\n",
    "import pyperclip "
   ]
  },
  {
   "cell_type": "code",
   "execution_count": 3,
   "metadata": {},
   "outputs": [],
   "source": [
    "# selenium을 이용해서 브라우저 아바타 만들기\n",
    "# selenium의 webdriver 모듈로 Chrome driver를 사용하여\n",
    "# Chrome 브라우저 객체 생성\n",
    "driver = webdriver.Chrome()\n",
    "# Chrome 브라우저 객체에게 네이버 접속해달라고 명령\n",
    "url = \"https://www.naver.com\"\n",
    "driver.get(url) # get method를 통해 url 입력\n",
    "driver.implicitly_wait(3)"
   ]
  },
  {
   "cell_type": "code",
   "execution_count": 4,
   "metadata": {},
   "outputs": [],
   "source": [
    "# 네이버 로그인 화면으로 이동하기\n",
    "\n",
    "elem = driver.find_element(By.CLASS_NAME, value=\"MyView-module__link_login___HpHMW\") # 로그인 식별\n",
    "elem.click() # 로그인 버튼 클릭\n",
    "driver.implicitly_wait(3) # 3초 기다리기"
   ]
  },
  {
   "cell_type": "code",
   "execution_count": 5,
   "metadata": {},
   "outputs": [
    {
     "data": {
      "text/plain": [
       "'Windows'"
      ]
     },
     "execution_count": 5,
     "metadata": {},
     "output_type": "execute_result"
    }
   ],
   "source": [
    "import platform \n",
    "os_base = platform.system()\n",
    "os_base"
   ]
  },
  {
   "cell_type": "code",
   "execution_count": 9,
   "metadata": {},
   "outputs": [],
   "source": [
    "user_id = \"mfanlab\"  # id 데이터 제공\n",
    "\n",
    "log_id = driver.find_element(By.ID, value=\"id\")\n",
    "log_id.click()\n",
    "pyperclip.copy(user_id)\n",
    "driver.implicitly_wait(3)\n",
    "\n",
    "if os_base == 'Darwin':\n",
    "    log_id.send_keys(Keys.COMMAND, 'v') # 맥북인 경우 \n",
    "else:\n",
    "    log_id.send_keys(Keys.CONTROL, 'v') # 윈도우인 경우\n",
    "    \n",
    "driver.implicitly_wait(3)"
   ]
  },
  {
   "cell_type": "code",
   "execution_count": 10,
   "metadata": {},
   "outputs": [],
   "source": [
    "user_pw = \"dhsfldnjs2189!\"\n",
    "\n",
    "log_pw = driver.find_element(By.ID, value=\"pw\")\n",
    "log_pw.click()\n",
    "pyperclip.copy(user_pw)\n",
    "driver.implicitly_wait(3)\n",
    "\n",
    "if os_base == 'Darwin':\n",
    "    log_pw.send_keys(Keys.COMMAND, 'v') # 맥북인 경우 \n",
    "else:\n",
    "    log_pw.send_keys(Keys.CONTROL, 'v') # 윈도우인 경우\n",
    "    \n",
    "driver.implicitly_wait(3)"
   ]
  },
  {
   "cell_type": "code",
   "execution_count": null,
   "metadata": {},
   "outputs": [],
   "source": []
  }
 ],
 "metadata": {
  "kernelspec": {
   "display_name": ".venv",
   "language": "python",
   "name": "python3"
  },
  "language_info": {
   "codemirror_mode": {
    "name": "ipython",
    "version": 3
   },
   "file_extension": ".py",
   "mimetype": "text/x-python",
   "name": "python",
   "nbconvert_exporter": "python",
   "pygments_lexer": "ipython3",
   "version": "3.12.4"
  }
 },
 "nbformat": 4,
 "nbformat_minor": 2
}
