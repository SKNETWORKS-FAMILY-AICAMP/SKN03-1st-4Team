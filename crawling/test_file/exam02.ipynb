{
 "cells": [
  {
   "cell_type": "markdown",
   "metadata": {},
   "source": [
    "Beautifulsoup 사용하기"
   ]
  },
  {
   "cell_type": "code",
   "execution_count": 2,
   "metadata": {},
   "outputs": [],
   "source": [
    "from bs4 import BeautifulSoup as bs"
   ]
  },
  {
   "cell_type": "code",
   "execution_count": 4,
   "metadata": {},
   "outputs": [],
   "source": [
    "soup = bs(open(\"./index.html\", encoding=\"utf-8\"), \"html.parser\")"
   ]
  },
  {
   "cell_type": "code",
   "execution_count": 6,
   "metadata": {},
   "outputs": [
    {
     "data": {
      "text/plain": [
       "<p align=\"center\">첫번째 텍스트입니다.</p>"
      ]
     },
     "execution_count": 6,
     "metadata": {},
     "output_type": "execute_result"
    }
   ],
   "source": [
    "soup.find('p') # selector를 입력하면 첫번째 값을 리턴"
   ]
  },
  {
   "cell_type": "code",
   "execution_count": 8,
   "metadata": {},
   "outputs": [
    {
     "data": {
      "text/plain": [
       "[<p align=\"center\">첫번째 텍스트입니다.</p>,\n",
       " <p align=\"right\">두번째 텍스트입니다.</p>,\n",
       " <p align=\"left\">세번째 텍스트입니다.</p>]"
      ]
     },
     "execution_count": 8,
     "metadata": {},
     "output_type": "execute_result"
    }
   ],
   "source": [
    "p_tags = soup.find_all('p')\n",
    "p_tags\n"
   ]
  },
  {
   "cell_type": "code",
   "execution_count": 11,
   "metadata": {},
   "outputs": [
    {
     "data": {
      "text/plain": [
       "[<p align=\"center\">첫번째 텍스트입니다.</p>,\n",
       " <p align=\"right\">두번째 텍스트입니다.</p>,\n",
       " <p align=\"left\">세번째 텍스트입니다.</p>,\n",
       " <span>27,000원</span>,\n",
       " <span>12,900원</span>]"
      ]
     },
     "execution_count": 11,
     "metadata": {},
     "output_type": "execute_result"
    }
   ],
   "source": [
    "p_tags = soup.find_all(['p', 'span'])\n",
    "p_tags\n"
   ]
  },
  {
   "cell_type": "code",
   "execution_count": 12,
   "metadata": {},
   "outputs": [
    {
     "data": {
      "text/plain": [
       "[<p align=\"center\">첫번째 텍스트입니다.</p>,\n",
       " <p align=\"right\">두번째 텍스트입니다.</p>,\n",
       " <p align=\"left\">세번째 텍스트입니다.</p>,\n",
       " <div class=\"item-price\">\n",
       " <div class=\"o-price\">\n",
       " <span>27,000원</span>\n",
       " </div>\n",
       " <div class=\"s-price\">\n",
       " <strong><span>12,900원</span></strong>\n",
       " </div>\n",
       " </div>,\n",
       " <div class=\"o-price\">\n",
       " <span>27,000원</span>\n",
       " </div>,\n",
       " <div class=\"s-price\">\n",
       " <strong><span>12,900원</span></strong>\n",
       " </div>]"
      ]
     },
     "execution_count": 12,
     "metadata": {},
     "output_type": "execute_result"
    }
   ],
   "source": [
    "p_tags = soup.find_all(['p', 'div'])\n",
    "p_tags\n"
   ]
  },
  {
   "cell_type": "code",
   "execution_count": 16,
   "metadata": {},
   "outputs": [
    {
     "data": {
      "text/plain": [
       "[<div class=\"o-price\">\n",
       " <span>27,000원</span>\n",
       " </div>]"
      ]
     },
     "execution_count": 16,
     "metadata": {},
     "output_type": "execute_result"
    }
   ],
   "source": [
    "p_tags = soup.find_all('div', class_='o-price')\n",
    "p_tags"
   ]
  },
  {
   "cell_type": "code",
   "execution_count": 17,
   "metadata": {},
   "outputs": [
    {
     "data": {
      "text/plain": [
       "<div class=\"o-price\">\n",
       "<span>27,000원</span>\n",
       "</div>"
      ]
     },
     "execution_count": 17,
     "metadata": {},
     "output_type": "execute_result"
    }
   ],
   "source": [
    "soup.find_all('div', class_='o-price')[0] # 이러면 html형식의 데이터를 추출할 수 있네? 그럼 find() 쓸 수 있겠다.!!"
   ]
  },
  {
   "cell_type": "code",
   "execution_count": 18,
   "metadata": {},
   "outputs": [
    {
     "data": {
      "text/plain": [
       "<span>27,000원</span>"
      ]
     },
     "execution_count": 18,
     "metadata": {},
     "output_type": "execute_result"
    }
   ],
   "source": [
    "soup.find_all('div', class_='o-price')[0].find('span') # beautifulsoup을 이용하면 html에서 python으로 추출하고 해당 객체를 또 html로 만들어서 추출할 수 있다."
   ]
  },
  {
   "cell_type": "code",
   "execution_count": 19,
   "metadata": {},
   "outputs": [
    {
     "data": {
      "text/plain": [
       "'27,000원'"
      ]
     },
     "execution_count": 19,
     "metadata": {},
     "output_type": "execute_result"
    }
   ],
   "source": [
    "soup.find_all('div', class_='o-price')[0].find('span').get_text() # get_text()는 내부에 있는 텍스트를 추출할 수 있다."
   ]
  },
  {
   "cell_type": "code",
   "execution_count": 20,
   "metadata": {},
   "outputs": [
    {
     "data": {
      "text/plain": [
       "[<p align=\"center\">첫번째 텍스트입니다.</p>]"
      ]
     },
     "execution_count": 20,
     "metadata": {},
     "output_type": "execute_result"
    }
   ],
   "source": [
    "# align의 값을 어떻게 얻을까?\n",
    "\n",
    "soup.find_all(attrs={'align':\"center\"})"
   ]
  },
  {
   "cell_type": "code",
   "execution_count": 24,
   "metadata": {},
   "outputs": [
    {
     "data": {
      "text/plain": [
       "[<div class=\"o-price\">\n",
       " <span>27,000원</span>\n",
       " </div>,\n",
       " <div class=\"s-price\">\n",
       " <strong><span>12,900원</span></strong>\n",
       " </div>]"
      ]
     },
     "execution_count": 24,
     "metadata": {},
     "output_type": "execute_result"
    }
   ],
   "source": [
    "soup.select('div>div')"
   ]
  },
  {
   "cell_type": "code",
   "execution_count": 25,
   "metadata": {},
   "outputs": [
    {
     "data": {
      "text/plain": [
       "[<span>27,000원</span>]"
      ]
     },
     "execution_count": 25,
     "metadata": {},
     "output_type": "execute_result"
    }
   ],
   "source": [
    "soup.select('div>div>span')"
   ]
  },
  {
   "cell_type": "code",
   "execution_count": 26,
   "metadata": {},
   "outputs": [
    {
     "data": {
      "text/plain": [
       "[<div class=\"item-price\">\n",
       " <div class=\"o-price\">\n",
       " <span>27,000원</span>\n",
       " </div>\n",
       " <div class=\"s-price\">\n",
       " <strong><span>12,900원</span></strong>\n",
       " </div>\n",
       " </div>]"
      ]
     },
     "execution_count": 26,
     "metadata": {},
     "output_type": "execute_result"
    }
   ],
   "source": [
    "soup.select('.item-price')"
   ]
  },
  {
   "cell_type": "code",
   "execution_count": null,
   "metadata": {},
   "outputs": [],
   "source": []
  }
 ],
 "metadata": {
  "kernelspec": {
   "display_name": ".venv",
   "language": "python",
   "name": "python3"
  },
  "language_info": {
   "codemirror_mode": {
    "name": "ipython",
    "version": 3
   },
   "file_extension": ".py",
   "mimetype": "text/x-python",
   "name": "python",
   "nbconvert_exporter": "python",
   "pygments_lexer": "ipython3",
   "version": "3.12.4"
  }
 },
 "nbformat": 4,
 "nbformat_minor": 2
}
