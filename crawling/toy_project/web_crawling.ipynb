{
 "cells": [
  {
   "cell_type": "code",
   "execution_count": 16,
   "metadata": {},
   "outputs": [],
   "source": [
    "from selenium import webdriver\n",
    "from selenium.webdriver.common.by import By\n",
    "from selenium.webdriver.common.keys import Keys\n",
    "from selenium.webdriver.common.action_chains import ActionChains\n",
    "import time"
   ]
  },
  {
   "cell_type": "code",
   "execution_count": 17,
   "metadata": {},
   "outputs": [],
   "source": [
    "driver = webdriver.Chrome()\n",
    "url = \"https://www.hyundai.com/kr/ko/e/customer/center/faq\"\n",
    "driver.get(url)\n",
    "driver.implicitly_wait(3)"
   ]
  },
  {
   "cell_type": "code",
   "execution_count": 18,
   "metadata": {},
   "outputs": [],
   "source": [
    "driver.execute_script(\"window.scrollTo(0, 1100)\")\n",
    "time.sleep(1)"
   ]
  },
  {
   "cell_type": "code",
   "execution_count": null,
   "metadata": {},
   "outputs": [],
   "source": [
    "for i in range(1, 11):\n",
    "    try:\n",
    "        driver.find_element(By.XPATH, '//*[@id=\"app\"]/div[3]/section/div[2]/div/div[2]/section/div/div[3]/div[1]/div[{i}]/button/div'.format(i=i)).click()\n",
    "    except:\n",
    "        break\n",
    "    title = driver.find_element(By.XPATH,'//*[@id=\"app\"]/div[3]/section/div[2]/div/div[2]/section/div/div[3]/div[1]/div[{i}]/button/div'.format(i=i)).text\n",
    "    \n",
    "    text = driver.find_element(By.XPATH,'//*[@id=\"app\"]/div[3]/section/div[2]/div/div[2]/section/div/div[3]/div[1]/div[{i}]/div/div'.format(i=i)).text\n",
    "    print(title)\n",
    "    print(text)\n",
    "    pixel = 1100+i*60\n",
    "    driver.execute_script(\"window.scrollTo(0, {pixel})\".format(pixel=pixel))\n",
    "    time.sleep(0.09)\n"
   ]
  },
  {
   "cell_type": "code",
   "execution_count": null,
   "metadata": {},
   "outputs": [],
   "source": [
    "driver.find_element(By.XPATH, '//*[@id=\"app\"]/div[3]/section/div[2]/div/div[2]/section/div/div[3]/div[1]/div[1]/button/div').click()"
   ]
  },
  {
   "cell_type": "code",
   "execution_count": null,
   "metadata": {},
   "outputs": [],
   "source": [
    "//*[@id=\"app\"]/div[3]/section/div[2]/div/div[2]/section/div/div[3]/div[1]/div[1]/button/div\n",
    "//*[@id=\"app\"]/div[3]/section/div[2]/div/div[2]/section/div/div[3]/div[1]/div[2]"
   ]
  },
  {
   "cell_type": "code",
   "execution_count": 20,
   "metadata": {},
   "outputs": [
    {
     "ename": "NameError",
     "evalue": "name 'pd' is not defined",
     "output_type": "error",
     "traceback": [
      "\u001b[1;31m---------------------------------------------------------------------------\u001b[0m",
      "\u001b[1;31mNameError\u001b[0m                                 Traceback (most recent call last)",
      "Cell \u001b[1;32mIn[20], line 22\u001b[0m\n\u001b[0;32m     19\u001b[0m     time\u001b[38;5;241m.\u001b[39msleep(\u001b[38;5;241m0.4\u001b[39m)\n\u001b[0;32m     21\u001b[0m \u001b[38;5;66;03m# 추출할 데이터 csv 저장\u001b[39;00m\n\u001b[1;32m---> 22\u001b[0m df \u001b[38;5;241m=\u001b[39m \u001b[43mpd\u001b[49m\u001b[38;5;241m.\u001b[39mDataFrame(data)\n\u001b[0;32m     23\u001b[0m df\u001b[38;5;241m.\u001b[39mto_csv(\u001b[38;5;124m'\u001b[39m\u001b[38;5;124m현대_빌트인캠_QnA.csv\u001b[39m\u001b[38;5;124m'\u001b[39m, index\u001b[38;5;241m=\u001b[39m\u001b[38;5;28;01mFalse\u001b[39;00m, encoding\u001b[38;5;241m=\u001b[39m\u001b[38;5;124m'\u001b[39m\u001b[38;5;124mutf-8-sig\u001b[39m\u001b[38;5;124m'\u001b[39m)  \n",
      "\u001b[1;31mNameError\u001b[0m: name 'pd' is not defined"
     ]
    }
   ],
   "source": [
    "# 저장할 빈 데이터 생성 -> 빌트인캠\n",
    "data = []\n",
    "# 스크롤 위치 조정\n",
    "driver.execute_script(\"window.scrollTo(0, 900)\")\n",
    "time.sleep(1)\n",
    "# 메뉴 클릭(선택) - 빌트인캠\n",
    "driver.find_element(By.XPATH, '//*[@id=\"app\"]/div[3]/section/div[2]/div/div[2]/section/div/div[1]/div[1]/ul/li[8]/button').click()\n",
    "# 추출할 데이터 반복 크롤링 (동적 페이지에 적용)\n",
    "for i in range(1, 11):\n",
    "    try:\n",
    "        driver.find_element(By.XPATH, '//*[@id=\"app\"]/div[3]/section/div[2]/div/div[2]/section/div/div[3]/div[1]/div[{i}]/button/div'.format(i=i)).click()\n",
    "    except:\n",
    "        break\n",
    "    title = driver.find_element(By.XPATH,'//*[@id=\"app\"]/div[3]/section/div[2]/div/div[2]/section/div/div[3]/div[1]/div[{i}]/button/div'.format(i=i)).text\n",
    "    text = driver.find_element(By.XPATH,'//*[@id=\"app\"]/div[3]/section/div[2]/div/div[2]/section/div/div[3]/div[1]/div[{i}]/div/div'.format(i=i)).text\n",
    "    data.append({'title':title, 'text':text})\n",
    "    pixel = 1100+i*60\n",
    "    driver.execute_script(\"window.scrollTo(0, {pixel})\".format(pixel=pixel))\n",
    "    time.sleep(0.4)\n",
    "    driver.find_element(By.XPATH, '//*[@id=\"app\"]/div[3]/section/div[2]/div/div[2]/section/div/div[3]/div[1]/div[{i}]/button/div'.format(i=i)).click()\n",
    "    time.sleep(0.4)\n",
    "\n",
    "# 추출할 데이터 csv 저장\n",
    "df = pd.DataFrame(data)\n",
    "df.to_csv('현대_빌트인캠_QnA.csv', index=False, encoding='utf-8-sig')  "
   ]
  },
  {
   "cell_type": "code",
   "execution_count": null,
   "metadata": {},
   "outputs": [],
   "source": []
  }
 ],
 "metadata": {
  "kernelspec": {
   "display_name": ".venv",
   "language": "python",
   "name": "python3"
  },
  "language_info": {
   "codemirror_mode": {
    "name": "ipython",
    "version": 3
   },
   "file_extension": ".py",
   "mimetype": "text/x-python",
   "name": "python",
   "nbconvert_exporter": "python",
   "pygments_lexer": "ipython3",
   "version": "3.12.4"
  }
 },
 "nbformat": 4,
 "nbformat_minor": 2
}
